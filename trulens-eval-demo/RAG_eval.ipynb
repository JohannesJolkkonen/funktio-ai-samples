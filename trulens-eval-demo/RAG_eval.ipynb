{
 "cells": [
  {
   "cell_type": "code",
   "execution_count": 2,
   "metadata": {},
   "outputs": [],
   "source": [
    "import os\n",
    "import openai\n",
    "import io\n",
    "import pandas as pd\n",
    "import llama_index \n",
    "from pypdf import PdfReader, PdfWriter"
   ]
  },
  {
   "cell_type": "code",
   "execution_count": 3,
   "metadata": {},
   "outputs": [],
   "source": [
    "openai.api_key = os.environ[\"OPENAI_API_KEY\"]"
   ]
  },
  {
   "cell_type": "markdown",
   "metadata": {},
   "source": [
    "## Read context document"
   ]
  },
  {
   "cell_type": "code",
   "execution_count": 4,
   "metadata": {},
   "outputs": [],
   "source": [
    "# !curl https://www.ipcc.ch/report/ar6/wg2/downloads/report/IPCC_AR6_WGII_Chapter03.pdf --output IPCC_AR6_WGII_Chapter03.pdf"
   ]
  },
  {
   "cell_type": "code",
   "execution_count": 5,
   "metadata": {},
   "outputs": [],
   "source": [
    "def select_pdf_pages(file, pages):\n",
    "    \"\"\"Given a pdf file object and list of pages, return a new pdf (as a bytes-object) with only those pages\"\"\"\n",
    "    pdf_reader = PdfReader(file)\n",
    "    pdf_writer = PdfWriter()\n",
    "    for page in pages:\n",
    "        pdf_writer.add_page(pdf_reader.pages[page])\n",
    "\n",
    "    buf = io.BytesIO()\n",
    "    pdf_writer.write(buf)\n",
    "    buf.seek(0)\n",
    "    return buf\n",
    "\n",
    "new_pdf = select_pdf_pages(\n",
    "    open(\"IPCC_AR6_WGII_Chapter03.pdf\", \"rb\"), [i for i in range(0, 30)]\n",
    ")\n",
    "with open(\"IPCC_AR6_WGII_Chapter03_subset.pdf\", \"wb\") as f:\n",
    "    f.write(new_pdf.getvalue())"
   ]
  },
  {
   "cell_type": "code",
   "execution_count": 6,
   "metadata": {},
   "outputs": [],
   "source": [
    "# Initialize models for LlamaIndex\n",
    "from llama_index.llms import OpenAI\n",
    "from llama_index.embeddings import OpenAIEmbedding\n",
    "\n",
    "llm = OpenAI(model=\"gpt-3.5-turbo\", temperature=0.1)\n",
    "embed_model = OpenAIEmbedding()"
   ]
  },
  {
   "cell_type": "markdown",
   "metadata": {},
   "source": [
    "### Load data, split into chunks"
   ]
  },
  {
   "cell_type": "code",
   "execution_count": 7,
   "metadata": {},
   "outputs": [],
   "source": [
    "from llama_index import SimpleDirectoryReader\n",
    "\n",
    "documents = SimpleDirectoryReader(\n",
    "    input_files=[\"IPCC_AR6_WGII_Chapter03_subset.pdf\"]\n",
    ").load_data()\n",
    "\n",
    "# print(len(documents))"
   ]
  },
  {
   "cell_type": "markdown",
   "metadata": {},
   "source": [
    "## Index-building functions"
   ]
  },
  {
   "cell_type": "code",
   "execution_count": 32,
   "metadata": {},
   "outputs": [],
   "source": [
    "from llama_index import ServiceContext, VectorStoreIndex\n",
    "from llama_index.node_parser import SentenceWindowNodeParser\n",
    "\n",
    "def build_basic_index(documents, llm, embed_model=OpenAIEmbedding()):\n",
    "    basic_context = ServiceContext.from_defaults(llm=llm, embed_model=embed_model)\n",
    "    basic_index = VectorStoreIndex.from_documents(\n",
    "        documents=documents, service_context=basic_context\n",
    "    )\n",
    "    return basic_index\n",
    "\n",
    "def build_sentence_window_index(documents, llm, embed_model=OpenAIEmbedding()):\n",
    "    node_parser = SentenceWindowNodeParser.from_defaults(\n",
    "        window_size=3,\n",
    "        window_metadata_key=\"window\",\n",
    "        original_text_metadata_key=\"original-text\"\n",
    "    )\n",
    "    sentence_context = ServiceContext.from_defaults(\n",
    "        llm=llm,\n",
    "        embed_model=embed_model,\n",
    "        node_parser=node_parser\n",
    "    )\n",
    "    sentence_index = VectorStoreIndex.from_documents(\n",
    "        documents=documents, service_context=sentence_context\n",
    "    )\n",
    "    return sentence_index"
   ]
  },
  {
   "cell_type": "markdown",
   "metadata": {},
   "source": [
    "### Configure TruLens Evaluation framework"
   ]
  },
  {
   "cell_type": "code",
   "execution_count": null,
   "metadata": {},
   "outputs": [],
   "source": [
    "from trulens_eval.feedback import Groundedness, GroundTruthAgreement\n",
    "from trulens_eval import Tru\n",
    "from trulens_eval import OpenAI, Feedback, TruLlama\n",
    "import numpy as np\n",
    "\n",
    "# Initialize the main entry-point to TruLens, Tru\n",
    "tru = Tru()\n",
    "\n",
    "openai_provider = OpenAI(model_engine=\"gpt-3.5-turbo-1106\")\n",
    "\n",
    "qa_df = pd.read_csv(\"ipcc_test_questions.csv\")\n",
    "qa_set = [{\"query\": item[\"Question\"], \"response\": item[\"Answer\"]} for index, item in qa_df.iterrows()]\n",
    "\n",
    "# Initialize metrics to collect \n",
    "\n",
    "# Answer relevance\n",
    "f_qa_relevance = Feedback(\n",
    "    openai_provider.relevance_with_cot_reasons, name=\"Answer Relevance\"\n",
    ").on_input_output()\n",
    "\n",
    "# Context relevance\n",
    "f_qs_relevance = Feedback(\n",
    "    openai_provider.relevance_with_cot_reasons, name=\"Context Relevance\"\n",
    ").on_input().on(TruLlama.select_source_nodes().node.text).aggregate(np.mean)\n",
    "\n",
    "\n",
    "# Groundedness\n",
    "grounded = Groundedness(groundedness_provider=openai_provider)\n",
    "f_groundedness = (\n",
    "    Feedback(grounded.groundedness_measure_with_cot_reasons, name = \"Groundedness\")\n",
    "    .on(TruLlama.select_source_nodes().node.text)\n",
    "    .on_output()\n",
    "    .aggregate(grounded.grounded_statements_aggregator)\n",
    ")\n",
    "\n",
    "# Ground truth agreement \n",
    "f_groundtruth = Feedback(\n",
    "    GroundTruthAgreement(qa_set).agreement_measure, name=\"Answer Correctness\"\n",
    ").on_input_output()\n",
    "\n",
    "\n",
    "metrics = [f_qa_relevance, f_qs_relevance, f_groundedness, f_groundtruth]\n",
    "\n",
    "def get_trulens_recorder(query_engine, app_id):\n",
    "    tru_recorder = TruLlama(\n",
    "        query_engine,\n",
    "        feedbacks=metrics,\n",
    "        app_id=app_id\n",
    "    )\n",
    "    return tru_recorder\n",
    "\n"
   ]
  },
  {
   "cell_type": "markdown",
   "metadata": {},
   "source": [
    "## Run Evals for Basic Index"
   ]
  },
  {
   "cell_type": "code",
   "execution_count": 23,
   "metadata": {},
   "outputs": [],
   "source": [
    "basic_query_index = build_basic_index(documents=documents, llm=llm, embed_model=embed_model)\n",
    "basic_query_engine = basic_query_index.as_query_engine()\n",
    "basic_recorder = get_trulens_recorder(basic_query_engine, app_id=\"Basic Query Engine\")\n"
   ]
  },
  {
   "cell_type": "code",
   "execution_count": 24,
   "metadata": {},
   "outputs": [],
   "source": [
    "with basic_recorder as recording:\n",
    "    for q in qa_set:\n",
    "        basic_query_engine.query(q['query'])"
   ]
  },
  {
   "cell_type": "code",
   "execution_count": 28,
   "metadata": {},
   "outputs": [
    {
     "name": "stdout",
     "output_type": "stream",
     "text": [
      "Starting dashboard ...\n",
      "Config file already exists. Skipping writing process.\n",
      "Credentials file already exists. Skipping writing process.\n",
      "Dashboard already running at path:   Network URL: http://192.168.0.24:8501\n",
      "\n"
     ]
    },
    {
     "data": {
      "text/plain": [
       "<Popen: returncode: None args: ['streamlit', 'run', '--server.headless=True'...>"
      ]
     },
     "execution_count": 28,
     "metadata": {},
     "output_type": "execute_result"
    }
   ],
   "source": [
    "records, feedback = tru.get_records_and_feedback(app_ids=[])\n",
    "# records.head(5)\n",
    "tru.run_dashboard()"
   ]
  },
  {
   "cell_type": "markdown",
   "metadata": {},
   "source": [
    "## Run Evals for Sentence Window Index"
   ]
  },
  {
   "cell_type": "code",
   "execution_count": 33,
   "metadata": {},
   "outputs": [],
   "source": [
    "from llama_index.indices.postprocessor import MetadataReplacementPostProcessor\n",
    "sentence_window_index = build_sentence_window_index(documents=documents, llm=llm, embed_model=embed_model)\n",
    "\n",
    "postproc = MetadataReplacementPostProcessor(target_metadata_key=\"window\")\n",
    "\n",
    "sentence_query_engine = sentence_window_index.as_query_engine(\n",
    "    node_postprocessors=[postproc]\n",
    ")\n",
    "\n",
    "sentence_recorder = get_trulens_recorder(\n",
    "    sentence_query_engine, app_id=\"Sentence Window Query Engine\"\n",
    ")"
   ]
  },
  {
   "cell_type": "code",
   "execution_count": 34,
   "metadata": {},
   "outputs": [
    {
     "name": "stderr",
     "output_type": "stream",
     "text": [
      "A new object of type <class 'llama_index.query_engine.retriever_query_engine.RetrieverQueryEngine'> at 0x1bb4c527610 is calling an instrumented method <function BaseQueryEngine.query at 0x000001BB1B3D6660>. The path of this call may be incorrect.\n",
      "Guessing path of new object is app based on other object (0x1bb22254610) using this function.\n",
      "A new object of type <class 'llama_index.query_engine.retriever_query_engine.RetrieverQueryEngine'> at 0x1bb4c527610 is calling an instrumented method <function RetrieverQueryEngine.retrieve at 0x000001BB1BEF7740>. The path of this call may be incorrect.\n",
      "Guessing path of new object is app based on other object (0x1bb22254610) using this function.\n",
      "A new object of type <class 'llama_index.indices.vector_store.retrievers.retriever.VectorIndexRetriever'> at 0x1bb4c527190 is calling an instrumented method <function BaseRetriever.retrieve at 0x000001BB1E1319E0>. The path of this call may be incorrect.\n",
      "Guessing path of new object is app.retriever based on other object (0x1bb21bb17d0) using this function.\n",
      "A new object of type <class 'llama_index.response_synthesizers.compact_and_refine.CompactAndRefine'> at 0x1bb1da5b5d0 is calling an instrumented method <function CompactAndRefine.get_response at 0x000001BB1DE9A3E0>. The path of this call may be incorrect.\n",
      "Guessing path of new object is app._response_synthesizer based on other object (0x1bb21a0d4d0) using this function.\n",
      "A new object of type <class 'llama_index.response_synthesizers.compact_and_refine.CompactAndRefine'> at 0x1bb1da5b5d0 is calling an instrumented method <function Refine.get_response at 0x000001BB1E130180>. The path of this call may be incorrect.\n",
      "Guessing path of new object is app._response_synthesizer based on other object (0x1bb21a0d4d0) using this function.\n",
      "A new object of type <class 'llama_index.llm_predictor.base.LLMPredictor'> at 0x1bb470b6450 is calling an instrumented method <function LLMPredictor.predict at 0x000001BB1B40D080>. The path of this call may be incorrect.\n",
      "Guessing path of new object is app._response_synthesizer.service_context.llm_predictor based on other object (0x1bb24ce3e90) using this function.\n",
      "A new object of type <class 'llama_index.query_engine.retriever_query_engine.RetrieverQueryEngine'> at 0x1bb4c527610 is calling an instrumented method <function RetrieverQueryEngine.retrieve at 0x000001BB1BEF7740>. The path of this call may be incorrect.\n",
      "Guessing path of new object is app based on other object (0x1bb22254610) using this function.\n",
      "A new object of type <class 'llama_index.response_synthesizers.compact_and_refine.CompactAndRefine'> at 0x1bb1da5b5d0 is calling an instrumented method <function Refine.get_response at 0x000001BB1E130180>. The path of this call may be incorrect.\n",
      "Guessing path of new object is app._response_synthesizer based on other object (0x1bb21a0d4d0) using this function.\n",
      "A new object of type <class 'llama_index.query_engine.retriever_query_engine.RetrieverQueryEngine'> at 0x1bb4c527610 is calling an instrumented method <function RetrieverQueryEngine.retrieve at 0x000001BB1BEF7740>. The path of this call may be incorrect.\n",
      "Guessing path of new object is app based on other object (0x1bb22254610) using this function.\n",
      "A new object of type <class 'llama_index.response_synthesizers.compact_and_refine.CompactAndRefine'> at 0x1bb1da5b5d0 is calling an instrumented method <function Refine.get_response at 0x000001BB1E130180>. The path of this call may be incorrect.\n",
      "Guessing path of new object is app._response_synthesizer based on other object (0x1bb21a0d4d0) using this function.\n",
      "A new object of type <class 'llama_index.query_engine.retriever_query_engine.RetrieverQueryEngine'> at 0x1bb4c527610 is calling an instrumented method <function RetrieverQueryEngine.retrieve at 0x000001BB1BEF7740>. The path of this call may be incorrect.\n",
      "Guessing path of new object is app based on other object (0x1bb22254610) using this function.\n",
      "A new object of type <class 'llama_index.response_synthesizers.compact_and_refine.CompactAndRefine'> at 0x1bb1da5b5d0 is calling an instrumented method <function Refine.get_response at 0x000001BB1E130180>. The path of this call may be incorrect.\n",
      "Guessing path of new object is app._response_synthesizer based on other object (0x1bb21a0d4d0) using this function.\n",
      "A new object of type <class 'llama_index.query_engine.retriever_query_engine.RetrieverQueryEngine'> at 0x1bb4c527610 is calling an instrumented method <function RetrieverQueryEngine.retrieve at 0x000001BB1BEF7740>. The path of this call may be incorrect.\n",
      "Guessing path of new object is app based on other object (0x1bb22254610) using this function.\n",
      "A new object of type <class 'llama_index.response_synthesizers.compact_and_refine.CompactAndRefine'> at 0x1bb1da5b5d0 is calling an instrumented method <function Refine.get_response at 0x000001BB1E130180>. The path of this call may be incorrect.\n",
      "Guessing path of new object is app._response_synthesizer based on other object (0x1bb21a0d4d0) using this function.\n",
      "A new object of type <class 'llama_index.query_engine.retriever_query_engine.RetrieverQueryEngine'> at 0x1bb4c527610 is calling an instrumented method <function RetrieverQueryEngine.retrieve at 0x000001BB1BEF7740>. The path of this call may be incorrect.\n",
      "Guessing path of new object is app based on other object (0x1bb22254610) using this function.\n",
      "A new object of type <class 'llama_index.response_synthesizers.compact_and_refine.CompactAndRefine'> at 0x1bb1da5b5d0 is calling an instrumented method <function Refine.get_response at 0x000001BB1E130180>. The path of this call may be incorrect.\n",
      "Guessing path of new object is app._response_synthesizer based on other object (0x1bb21a0d4d0) using this function.\n",
      "A new object of type <class 'llama_index.query_engine.retriever_query_engine.RetrieverQueryEngine'> at 0x1bb4c527610 is calling an instrumented method <function RetrieverQueryEngine.retrieve at 0x000001BB1BEF7740>. The path of this call may be incorrect.\n",
      "Guessing path of new object is app based on other object (0x1bb22254610) using this function.\n",
      "A new object of type <class 'llama_index.response_synthesizers.compact_and_refine.CompactAndRefine'> at 0x1bb1da5b5d0 is calling an instrumented method <function Refine.get_response at 0x000001BB1E130180>. The path of this call may be incorrect.\n",
      "Guessing path of new object is app._response_synthesizer based on other object (0x1bb21a0d4d0) using this function.\n",
      "A new object of type <class 'llama_index.query_engine.retriever_query_engine.RetrieverQueryEngine'> at 0x1bb4c527610 is calling an instrumented method <function RetrieverQueryEngine.retrieve at 0x000001BB1BEF7740>. The path of this call may be incorrect.\n",
      "Guessing path of new object is app based on other object (0x1bb22254610) using this function.\n",
      "A new object of type <class 'llama_index.response_synthesizers.compact_and_refine.CompactAndRefine'> at 0x1bb1da5b5d0 is calling an instrumented method <function Refine.get_response at 0x000001BB1E130180>. The path of this call may be incorrect.\n",
      "Guessing path of new object is app._response_synthesizer based on other object (0x1bb21a0d4d0) using this function.\n",
      "A new object of type <class 'llama_index.query_engine.retriever_query_engine.RetrieverQueryEngine'> at 0x1bb4c527610 is calling an instrumented method <function RetrieverQueryEngine.retrieve at 0x000001BB1BEF7740>. The path of this call may be incorrect.\n",
      "Guessing path of new object is app based on other object (0x1bb22254610) using this function.\n",
      "A new object of type <class 'llama_index.response_synthesizers.compact_and_refine.CompactAndRefine'> at 0x1bb1da5b5d0 is calling an instrumented method <function Refine.get_response at 0x000001BB1E130180>. The path of this call may be incorrect.\n",
      "Guessing path of new object is app._response_synthesizer based on other object (0x1bb21a0d4d0) using this function.\n",
      "A new object of type <class 'llama_index.query_engine.retriever_query_engine.RetrieverQueryEngine'> at 0x1bb4c527610 is calling an instrumented method <function RetrieverQueryEngine.retrieve at 0x000001BB1BEF7740>. The path of this call may be incorrect.\n",
      "Guessing path of new object is app based on other object (0x1bb22254610) using this function.\n",
      "A new object of type <class 'llama_index.response_synthesizers.compact_and_refine.CompactAndRefine'> at 0x1bb1da5b5d0 is calling an instrumented method <function Refine.get_response at 0x000001BB1E130180>. The path of this call may be incorrect.\n",
      "Guessing path of new object is app._response_synthesizer based on other object (0x1bb21a0d4d0) using this function.\n"
     ]
    }
   ],
   "source": [
    "with sentence_recorder as recording:\n",
    "    for q in qa_set:\n",
    "        sentence_query_engine.query(q['query'])"
   ]
  },
  {
   "cell_type": "markdown",
   "metadata": {},
   "source": [
    "## Run Evals for your Custom RAG App"
   ]
  }
 ],
 "metadata": {
  "kernelspec": {
   "display_name": "myenv",
   "language": "python",
   "name": "python3"
  },
  "language_info": {
   "codemirror_mode": {
    "name": "ipython",
    "version": 3
   },
   "file_extension": ".py",
   "mimetype": "text/x-python",
   "name": "python",
   "nbconvert_exporter": "python",
   "pygments_lexer": "ipython3",
   "version": "3.11.0"
  }
 },
 "nbformat": 4,
 "nbformat_minor": 2
}
